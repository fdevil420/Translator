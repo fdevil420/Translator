{
 "cells": [
  {
   "cell_type": "code",
   "execution_count": 51,
   "metadata": {},
   "outputs": [],
   "source": [
    "import speech_recognition as sr\n",
    "from gtts import gTTS\n",
    "import os\n",
    "import pygame\n",
    "from transformers import pipeline"
   ]
  },
  {
   "cell_type": "code",
   "execution_count": 52,
   "metadata": {},
   "outputs": [],
   "source": [
    "recognizer = sr.Recognizer()"
   ]
  },
  {
   "cell_type": "code",
   "execution_count": 53,
   "metadata": {},
   "outputs": [
    {
     "name": "stderr",
     "output_type": "stream",
     "text": [
      "No model was supplied, defaulted to t5-base and revision 686f1db (https://huggingface.co/t5-base).\n",
      "Using a pipeline without specifying a model name and revision in production is not recommended.\n",
      "c:\\Users\\vaddi\\anaconda3\\envs\\translator2\\Lib\\site-packages\\transformers\\models\\t5\\tokenization_t5_fast.py:155: FutureWarning: This tokenizer was incorrectly instantiated with a model max length of 512 which will be corrected in Transformers v5.\n",
      "For now, this behavior is kept to avoid breaking backwards compatibility when padding/encoding with `truncation is True`.\n",
      "- Be aware that you SHOULD NOT rely on t5-base automatically truncating your input to 512 when padding/encoding.\n",
      "- If you want to encode/pad to sequences longer than 512 you can either instantiate this tokenizer with `model_max_length` or pass `max_length` when encoding/padding.\n",
      "- To avoid this warning, please instantiate this tokenizer with `model_max_length` set to your preferred value.\n",
      "  warnings.warn(\n"
     ]
    }
   ],
   "source": [
    "translation_pipeline = pipeline('translation_en_to_de')"
   ]
  },
  {
   "cell_type": "code",
   "execution_count": 59,
   "metadata": {},
   "outputs": [
    {
     "name": "stdout",
     "output_type": "stream",
     "text": [
      "Speak something...\n",
      "magnetism is the force acting on a moving charge\n",
      "[{'translation_text': 'Magnetismus ist die Kraft, die auf einer beweglichen Ladung wirkt.'}]\n"
     ]
    }
   ],
   "source": [
    "with sr.Microphone() as source:\n",
    "    print(\"Speak something...\")\n",
    "    audio = recognizer.listen(source)\n",
    "\n",
    "\n",
    "try:\n",
    "    \n",
    "    text = recognizer.recognize_google(audio)\n",
    "    print(text)\n",
    "    results = translation_pipeline(text)\n",
    "    print(results)\n",
    "    \n",
    "    \n",
    "\n",
    "except sr.UnknownValueError:\n",
    "    print(\"Sorry, could not understand audio.\")\n",
    "except sr.RequestError as e:\n",
    "    print(f\"Could not request results from Google Web Speech API; {e}\")\n",
    "\n",
    "\n",
    "\n"
   ]
  },
  {
   "cell_type": "code",
   "execution_count": 60,
   "metadata": {},
   "outputs": [
    {
     "name": "stdout",
     "output_type": "stream",
     "text": [
      "Audio saved.\n",
      "Finished playing audio.\n"
     ]
    }
   ],
   "source": [
    "text = results[0]['translation_text']\n",
    "\n",
    "# Create and save audio for the extracted text\n",
    "tts = gTTS(text, lang='de')  # You can change 'en' to the desired language code\n",
    "output_file = \"output.mp3\"\n",
    "tts.save(output_file)\n",
    "print(\"Audio saved.\")\n",
    "\n",
    "# Initialize pygame mixer\n",
    "pygame.mixer.init()\n",
    "\n",
    "# Play the audio\n",
    "pygame.mixer.music.load(output_file)\n",
    "pygame.mixer.music.play()\n",
    "while pygame.mixer.music.get_busy():\n",
    "    pygame.time.Clock().tick(10)  # Adjust the tick rate as needed\n",
    "print(\"Finished playing audio.\")\n",
    "\n",
    "# Clean up pygame resources\n",
    "pygame.mixer.quit()"
   ]
  }
 ],
 "metadata": {
  "kernelspec": {
   "display_name": "translator2",
   "language": "python",
   "name": "python3"
  },
  "language_info": {
   "codemirror_mode": {
    "name": "ipython",
    "version": 3
   },
   "file_extension": ".py",
   "mimetype": "text/x-python",
   "name": "python",
   "nbconvert_exporter": "python",
   "pygments_lexer": "ipython3",
   "version": "3.11.4"
  },
  "orig_nbformat": 4
 },
 "nbformat": 4,
 "nbformat_minor": 2
}
